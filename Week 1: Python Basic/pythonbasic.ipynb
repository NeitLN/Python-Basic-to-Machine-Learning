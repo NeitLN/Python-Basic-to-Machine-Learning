{
 "cells": [
  {
   "cell_type": "markdown",
   "metadata": {},
   "source": [
    "Siêu nhẹ nhàng"
   ]
  },
  {
   "cell_type": "code",
   "execution_count": 8,
   "metadata": {},
   "outputs": [
    {
     "name": "stdout",
     "output_type": "stream",
     "text": [
      "Xin chào, Vo Viet Tien\n"
     ]
    }
   ],
   "source": [
    "#1. Nhập và in tên người dùng\n",
    "name = input(\"Nhập tên của bạn:\")\n",
    "print(\"Xin chào,\", name)"
   ]
  },
  {
   "cell_type": "code",
   "execution_count": 2,
   "metadata": {},
   "outputs": [
    {
     "name": "stdout",
     "output_type": "stream",
     "text": [
      "Tổng là: 6\n"
     ]
    }
   ],
   "source": [
    "#2. Tính tổng hai số\n",
    "a = int(input(\"Nhập số thứ nhất: \"))\n",
    "b = int(input(\"Nhập số thứ hai: \"))\n",
    "print(\"Tổng là:\", a + b)\n"
   ]
  },
  {
   "cell_type": "code",
   "execution_count": 5,
   "metadata": {},
   "outputs": [
    {
     "name": "stdout",
     "output_type": "stream",
     "text": [
      "Chu vi là: 26.0\n"
     ]
    }
   ],
   "source": [
    "#3. Tính chu vi Hình Chữ Nhật\n",
    "cd = float(input(\"Nhập chiều dài: \"))\n",
    "cr = float(input(\"Nhập chiều rộng: \"))\n",
    "print(\"Chu vi là:\", 2 * (cd + cr))\n"
   ]
  },
  {
   "cell_type": "code",
   "execution_count": 6,
   "metadata": {},
   "outputs": [
    {
     "name": "stdout",
     "output_type": "stream",
     "text": [
      "Diện tích là: 20.0\n"
     ]
    }
   ],
   "source": [
    "#4. Tính Diện tích Tam Giác\n",
    "day = float(input(\"Nhập độ dài đáy: \"))\n",
    "cao = float(input(\"Nhập chiều cao: \"))\n",
    "print(\"Diện tích là:\", 0.5 * day * cao)\n"
   ]
  },
  {
   "cell_type": "code",
   "execution_count": 7,
   "metadata": {},
   "outputs": [
    {
     "name": "stdout",
     "output_type": "stream",
     "text": [
      "2 mũ 5 là: 32\n"
     ]
    }
   ],
   "source": [
    "#5. Tính 2 mũ 5\n",
    "print(\"2 mũ 5 là:\", 2 ** 5)\n"
   ]
  },
  {
   "cell_type": "markdown",
   "metadata": {},
   "source": [
    "Nhẹ Nhàng"
   ]
  },
  {
   "cell_type": "code",
   "execution_count": 9,
   "metadata": {},
   "outputs": [
    {
     "name": "stdout",
     "output_type": "stream",
     "text": [
      "Số lẻ\n"
     ]
    }
   ],
   "source": [
    "#6. Kiểm tra số chẵn lẻ\n",
    "so = int(input(\"Nhập một số: \"))\n",
    "if so % 2 == 0:\n",
    "    print(\"Số chẵn\")\n",
    "else:\n",
    "    print(\"Số lẻ\")\n"
   ]
  },
  {
   "cell_type": "code",
   "execution_count": 10,
   "metadata": {},
   "outputs": [
    {
     "name": "stdout",
     "output_type": "stream",
     "text": [
      "Yếu\n"
     ]
    }
   ],
   "source": [
    "#7. Xếp loại học sinh (Giỏi, khá, TB, yếu)\n",
    "diem = float(input(\"Nhập điểm: \"))\n",
    "if diem >= 8:\n",
    "    print(\"Giỏi\")\n",
    "elif diem >= 6.5:\n",
    "    print(\"Khá\")\n",
    "elif diem >= 5:\n",
    "    print(\"Trung bình\")\n",
    "else:\n",
    "    print(\"Yếu\")\n"
   ]
  },
  {
   "cell_type": "code",
   "execution_count": 11,
   "metadata": {},
   "outputs": [
    {
     "name": "stdout",
     "output_type": "stream",
     "text": [
      "Vô nghiệm\n"
     ]
    }
   ],
   "source": [
    "#8. Tính phương trình bậc 2\n",
    "a = float(input(\"Nhập a: \"))\n",
    "b = float(input(\"Nhập b: \"))\n",
    "c = float(input(\"Nhập c: \"))\n",
    "\n",
    "delta = b * b - 4 * a * c\n",
    "\n",
    "if delta < 0:\n",
    "    print(\"Vô nghiệm\")\n",
    "elif delta == 0:\n",
    "    print(\"Nghiệm kép:\", -b / (2 * a))\n",
    "else:\n",
    "    x1 = (-b + delta**0.5) / (2 * a)\n",
    "    x2 = (-b - delta**0.5) / (2 * a)\n",
    "    print(\"Hai nghiệm:\", x1, \"và\", x2)\n"
   ]
  },
  {
   "cell_type": "code",
   "execution_count": 12,
   "metadata": {},
   "outputs": [
    {
     "name": "stdout",
     "output_type": "stream",
     "text": [
      "Độ F là: 104.0\n"
     ]
    }
   ],
   "source": [
    "#9. Đổi độ C sang độ F\n",
    "c = float(input(\"Nhập độ C: \"))\n",
    "print(\"Độ F là:\", c * 9 / 5 + 32)\n"
   ]
  },
  {
   "cell_type": "code",
   "execution_count": 20,
   "metadata": {},
   "outputs": [
    {
     "name": "stdout",
     "output_type": "stream",
     "text": [
      "True\n"
     ]
    }
   ],
   "source": [
    "#10. Kiểm tra V trong kí tự \"VanLang\" và trả về True False\n",
    "print(\"V\" in \"VanLang\")\n"
   ]
  },
  {
   "cell_type": "markdown",
   "metadata": {},
   "source": [
    "Vòng lặp và tương tác với List"
   ]
  },
  {
   "cell_type": "code",
   "execution_count": 14,
   "metadata": {},
   "outputs": [
    {
     "name": "stdout",
     "output_type": "stream",
     "text": [
      "1\n",
      "2\n",
      "3\n",
      "4\n",
      "5\n"
     ]
    }
   ],
   "source": [
    "#11. In số từ 1 đến n\n",
    "n = int(input(\"Nhập n: \"))\n",
    "for i in range(1, n + 1): #Dùng vòng lặp for để in các số từ 1 đến n\n",
    "    print(i)\n"
   ]
  },
  {
   "cell_type": "code",
   "execution_count": 15,
   "metadata": {},
   "outputs": [
    {
     "name": "stdout",
     "output_type": "stream",
     "text": [
      "Tổng là: 15\n"
     ]
    }
   ],
   "source": [
    "#12. Tính tổng các số từ 1 đến n\n",
    "n = int(input(\"Nhập n: \"))\n",
    "tong = sum(range(1, n + 1)) #Tính tổng các số bằng hàm sum\n",
    "print(\"Tổng là:\", tong)\n"
   ]
  },
  {
   "cell_type": "code",
   "execution_count": 16,
   "metadata": {},
   "outputs": [
    {
     "name": "stdout",
     "output_type": "stream",
     "text": [
      "y nhỏ hơn 20\n",
      "z nhỏ hơn hoặc bằng 30\n"
     ]
    }
   ],
   "source": [
    "#13.Kiểm tra số nguyên x, y, z theo yêu cầu\n",
    "x = int(input(\"Nhập x: \"))\n",
    "y = int(input(\"Nhập y: \"))\n",
    "z = int(input(\"Nhập z: \"))\n",
    "\n",
    "if x % 2 == 0: #Kiểm tra x có phải số chẵn\n",
    "    print(\"x là số chẵn\")\n",
    "if y >= 20: #Kiểm tra y lớn hơn hoặc bằng hay nhỏ hơn 20\n",
    "    print(\"y lớn hơn hoặc bằng 20\")\n",
    "else:\n",
    "    print(\"y nhỏ hơn 20\")\n",
    "if z <= 30: #Kiểm tra z lớn hơn hoặc bằng hay nhỏ hơn 30\n",
    "    print(\"z nhỏ hơn hoặc bằng 30\")\n",
    "else:\n",
    "    print(\"z lớn hơn 30\")\n"
   ]
  },
  {
   "cell_type": "code",
   "execution_count": null,
   "metadata": {},
   "outputs": [],
   "source": [
    "#14. Thao tác với List: Thêm, xóa list có sẵn\n",
    "my_list = [1, 2, 3] #Tạo danh sách\n",
    "print(\"Danh sách ban đầu:\", my_list)\n",
    "\n",
    "my_list.append(4)  #Thêm phần tử vào danh sách\n",
    "print(\"Danh sách sau khi thêm:\", my_list)\n",
    "\n",
    "my_list.remove(2)  #Xóa phần tử 2 khỏi danh sách\n",
    "print(\"Danh sách sau khi xóa:\", my_list)\n"
   ]
  },
  {
   "cell_type": "code",
   "execution_count": null,
   "metadata": {},
   "outputs": [],
   "source": [
    "#15. Tìm số lớn nhất và nhỏ nhất trong list\n",
    "my_list = [5, 1, 8, 3, 7]\n",
    "print(\"Số lớn nhất:\", max(my_list)) #Tìm số lớn nhất trong ds\n",
    "print(\"Số nhỏ nhất:\", min(my_list)) #Tìm số nhỏ nhất trong ds\n"
   ]
  },
  {
   "cell_type": "code",
   "execution_count": null,
   "metadata": {},
   "outputs": [],
   "source": [
    "#16. Viết hàm tính giai thừa\n",
    "def giai_thua(n):\n",
    "    gt = 1\n",
    "    for i in range(1, n + 1): #Dùng vòng lặp để nhân các số từ 1 -> n\n",
    "        gt *= i\n",
    "    return gt\n",
    "\n",
    "n = int(input(\"Nhập n: \")) #Nhập n và tính giai thừa\n",
    "print(\"Giai thừa là:\", giai_thua(n))\n"
   ]
  },
  {
   "cell_type": "code",
   "execution_count": null,
   "metadata": {},
   "outputs": [],
   "source": [
    "#17. Viết hàm kiểm tra số nguyên tố\n",
    "def is_prime(n):\n",
    "    if n < 2: #Số nhỏ hơn 2 ko phải số nguyên tố\n",
    "        return False\n",
    "    for i in range(2, int(n**0.5) + 1): #Kiểm tra chia hết cho 2 đến căn bậc 2 của n\n",
    "        if n % i == 0:\n",
    "            return False\n",
    "    return True\n",
    "\n",
    "n = int(input(\"Nhập n: \"))\n",
    "print(\"Là số nguyên tố:\", is_prime(n))\n"
   ]
  },
  {
   "cell_type": "code",
   "execution_count": null,
   "metadata": {},
   "outputs": [],
   "source": [
    "#18. Viết hàm kiểm tra số chính phương\n",
    "def is_perfect_square(n):\n",
    "    return int(n**0.5)**2 == n #Kiểm tra căn bậc 2 của n có phải số nguyên\n",
    "\n",
    "n = int(input(\"Nhập n: \"))\n",
    "print(\"Là số chính phương:\", is_perfect_square(n))\n"
   ]
  },
  {
   "cell_type": "code",
   "execution_count": 19,
   "metadata": {},
   "outputs": [
    {
     "name": "stdout",
     "output_type": "stream",
     "text": [
      "Phương trình: 4x^3 + 6x^2 + 3x + 5 = 0\n",
      "Nghiệm của phương trình là: Không tìm thấy nghiệm nguyên trong khoảng [-100, 100]\n"
     ]
    }
   ],
   "source": [
    "#19. Viết hàm tìm phương trình bậc 3\n",
    "def giai_pt_bac3(a, b, c, d):\n",
    "    print(f\"Phương trình: {a}x^3 + {b}x^2 + {c}x + {d} = 0\")\n",
    "    \n",
    "    # Duyệt các giá trị x từ -100 đến 100 để kiểm tra nghiệm nguyên\n",
    "    for x in range(-100, 101):  # Kiểm tra trong khoảng [-100, 100]\n",
    "        if a * x**3 + b * x**2 + c * x + d == 0:  # Nếu thỏa mãn điều kiện\n",
    "            return x  # Trả về nghiệm đầu tiên tìm được\n",
    "    \n",
    "    # Nếu không có nghiệm trong khoảng [-100, 100]\n",
    "    return \"Không tìm thấy nghiệm nguyên trong khoảng [-100, 100]\"\n",
    "\n",
    "# Nhập hệ số của phương trình\n",
    "a = int(input(\"Nhập hệ số a: \"))\n",
    "b = int(input(\"Nhập hệ số b: \"))\n",
    "c = int(input(\"Nhập hệ số c: \"))\n",
    "d = int(input(\"Nhập hệ số d: \"))\n",
    "\n",
    "# Gọi hàm giải phương trình và in kết quả\n",
    "nghiem = giai_pt_bac3(a, b, c, d)\n",
    "print(\"Nghiệm của phương trình là:\", nghiem)\n"
   ]
  },
  {
   "cell_type": "code",
   "execution_count": null,
   "metadata": {},
   "outputs": [],
   "source": [
    "#20. Viết hàm tính định lý Pytago\n",
    "def pytago(a, b, c):\n",
    "    return a**2 + b**2 == c**2\n",
    "\n",
    "a = int(input(\"Nhập cạnh a: \"))\n",
    "b = int(input(\"Nhập cạnh b: \"))\n",
    "c = int(input(\"Nhập cạnh c: \"))\n",
    "print(\"Định lý Pytago thỏa mãn:\", pytago(a, b, c))\n"
   ]
  },
  {
   "cell_type": "code",
   "execution_count": null,
   "metadata": {},
   "outputs": [],
   "source": [
    "#21. Đếm số lượng từ xuất hiện trong câu\n",
    "sentence = input(\"Nhập câu: \")\n",
    "words = sentence.split() #Tách câu thành ds các từ và đếm số lượng\n",
    "print(\"Số từ:\", len(words))\n"
   ]
  },
  {
   "cell_type": "code",
   "execution_count": null,
   "metadata": {},
   "outputs": [],
   "source": [
    "#22. Đảo ngược chuỗi đã cho\n",
    "chuoi = input(\"Nhập chuỗi: \")\n",
    "print(\"Chuỗi đảo ngược:\", chuoi[::-1]) #Sử dụng slicing để đảo ngược chuỗi\n"
   ]
  },
  {
   "cell_type": "code",
   "execution_count": null,
   "metadata": {},
   "outputs": [],
   "source": [
    "#23. Ghi và đọc file văn bản\n",
    "with open(\"output.txt\", \"w\") as file: #Ghi\n",
    "    file.write(\"Hello Văn Lang!\")\n",
    "\n",
    "with open(\"output.txt\", \"r\") as file: #Đọc\n",
    "    print(file.read())\n"
   ]
  },
  {
   "cell_type": "code",
   "execution_count": 17,
   "metadata": {},
   "outputs": [
    {
     "name": "stdout",
     "output_type": "stream",
     "text": [
      "Hello Văn Lang!\n"
     ]
    }
   ],
   "source": [
    "#24. Ghi và đọc file văn bản dùng Try-Except\n",
    "try:\n",
    "    with open(\"output.txt\", \"w\") as file:\n",
    "        file.write(\"Hello Văn Lang!\")\n",
    "    with open(\"output.txt\", \"r\") as file:\n",
    "        print(file.read())\n",
    "except Exception as e: #Xử lí Lỗi nếu file ko tồn tại\n",
    "    print(\"Lỗi:\", e)\n",
    "\n",
    "\n"
   ]
  },
  {
   "cell_type": "code",
   "execution_count": null,
   "metadata": {},
   "outputs": [],
   "source": [
    "#25. Đọc file và đếm số từ\n",
    "with open(\"output.txt\", \"r\") as file:\n",
    "    content = file.read()\n",
    "    print(\"Số từ trong file:\", len(content.split()))\n"
   ]
  }
 ],
 "metadata": {
  "kernelspec": {
   "display_name": "Python 3",
   "language": "python",
   "name": "python3"
  },
  "language_info": {
   "codemirror_mode": {
    "name": "ipython",
    "version": 3
   },
   "file_extension": ".py",
   "mimetype": "text/x-python",
   "name": "python",
   "nbconvert_exporter": "python",
   "pygments_lexer": "ipython3",
   "version": "3.13.0"
  }
 },
 "nbformat": 4,
 "nbformat_minor": 2
}
